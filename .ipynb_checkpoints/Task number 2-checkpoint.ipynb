{
 "cells": [
  {
   "cell_type": "code",
   "execution_count": 1,
   "id": "df2abac7",
   "metadata": {},
   "outputs": [],
   "source": [
    "def print_matrix_modified(mass):\n",
    "    for inD1 in range(len(mass)):\n",
    "        row_str = \"\"\n",
    "        for inD2 in range(len(mass[inD1])):\n",
    "            a = max(map(lambda x: len(str(x)),\n",
    "                        (i[inD2] for i in mass[0: len(mass)])))\n",
    "            row_str = row_str + str(mass[inD1][inD2]).rjust(a) + \"  \"\n",
    "        print(row_str)"
   ]
  },
  {
   "cell_type": "code",
   "execution_count": 2,
   "id": "4eb8c63b",
   "metadata": {},
   "outputs": [
    {
     "name": "stdout",
     "output_type": "stream",
     "text": [
      "           1  11  111      7  \n",
      "111111111111   4    6  11111  \n"
     ]
    }
   ],
   "source": [
    "print_matrix_modified([[1,11,111, 7], [111111111111,4,6,11111]])"
   ]
  },
  {
   "cell_type": "code",
   "execution_count": null,
   "id": "c83559eb",
   "metadata": {},
   "outputs": [],
   "source": []
  }
 ],
 "metadata": {
  "kernelspec": {
   "display_name": "Python 3 (ipykernel)",
   "language": "python",
   "name": "python3"
  },
  "language_info": {
   "codemirror_mode": {
    "name": "ipython",
    "version": 3
   },
   "file_extension": ".py",
   "mimetype": "text/x-python",
   "name": "python",
   "nbconvert_exporter": "python",
   "pygments_lexer": "ipython3",
   "version": "3.9.7"
  }
 },
 "nbformat": 4,
 "nbformat_minor": 5
}
